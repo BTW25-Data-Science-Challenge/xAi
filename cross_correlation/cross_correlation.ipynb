{
 "cells": [
  {
   "cell_type": "code",
   "execution_count": 82,
   "metadata": {},
   "outputs": [],
   "source": [
    "import os\n",
    "import numpy as np\n",
    "import matplotlib.pyplot as plt\n",
    "x_ai_path = (os.path.abspath(os.path.join(\"\", os.pardir)))\n",
    "intra_day_csv = os.path.join(x_ai_path, \"Data\",\"Data\",\"Smard\",\"IntraDay\",\"IntraDayPreisindexIdAEPvonNetztransparenzDE.csv\")\n",
    "allData_csv = os.path.join(x_ai_path, \"submission\", \"merged_data\", \"allData.csv\")\n",
    "\n",
    "import pandas as pd\n",
    "df_all_data = pd.read_csv(allData_csv)\n",
    "df_intra_day = pd.read_csv(intra_day_csv, delimiter=';', decimal=',')"
   ]
  },
  {
   "cell_type": "markdown",
   "metadata": {},
   "source": [
    "Leider enthält die CSV der Intraday Daten wesentlich genauere Werte als unsere andere CSV, die nur ganze Stunden enthält. Außerdem enthält sie aktuell Werte über einen längeren Zeitraum, die beschnitten werden müssen. "
   ]
  },
  {
   "cell_type": "code",
   "execution_count": 83,
   "metadata": {},
   "outputs": [
    {
     "name": "stdout",
     "output_type": "stream",
     "text": [
      "         Datum von       (Uhrzeit) von Zeitzone (Uhrzeit) bis Zeitzone.1  \\\n",
      "0       2020-06-30 2020-06-30 22:00:00      UTC         22:15        UTC   \n",
      "4       2020-06-30 2020-06-30 23:00:00      UTC         23:15        UTC   \n",
      "8       2020-07-01 2020-07-01 00:00:00      UTC         00:15        UTC   \n",
      "12      2020-07-01 2020-07-01 01:00:00      UTC         01:15        UTC   \n",
      "16      2020-07-01 2020-07-01 02:00:00      UTC         02:15        UTC   \n",
      "...            ...                 ...      ...           ...        ...   \n",
      "157088  2024-12-23 2024-12-23 06:00:00      UTC         06:15        UTC   \n",
      "157092  2024-12-23 2024-12-23 07:00:00      UTC         07:15        UTC   \n",
      "157096  2024-12-23 2024-12-23 08:00:00      UTC         08:15        UTC   \n",
      "157100  2024-12-23 2024-12-23 09:00:00      UTC         09:15        UTC   \n",
      "157104  2024-12-23 2024-12-23 10:00:00      UTC         10:15        UTC   \n",
      "\n",
      "        ID AEP in €/MWh  \n",
      "0                 43.75  \n",
      "4                 33.22  \n",
      "8                 25.46  \n",
      "12                18.00  \n",
      "16                12.31  \n",
      "...                 ...  \n",
      "157088            75.73  \n",
      "157092            83.75  \n",
      "157096           115.88  \n",
      "157100            83.69  \n",
      "157104            62.24  \n",
      "\n",
      "[39277 rows x 6 columns]\n"
     ]
    }
   ],
   "source": [
    "df_intra_day['(Uhrzeit) von'] = pd.to_datetime(df_intra_day['Datum von'] + ' ' + df_intra_day['(Uhrzeit) von'], format='%Y-%m-%d %H:%M')\n",
    "df_intra_day_filtered = df_intra_day[df_intra_day['(Uhrzeit) von'].dt.minute == 0]\n",
    "earliest_datetime = pd.Timestamp(\"2020-06-30 22:00:00\")\n",
    "cutoff_datetime = pd.Timestamp(\"2024-12-23 10:00:00\")\n",
    "df_intra_day_filtered = df_intra_day_filtered[df_intra_day_filtered['(Uhrzeit) von'] <= cutoff_datetime]\n",
    "print(df_intra_day_filtered)"
   ]
  },
  {
   "cell_type": "markdown",
   "metadata": {},
   "source": [
    "Nun muss auch noch die große CSV gefiltert werden, um sich auf den gleichen Zeitraum zu beschränken"
   ]
  },
  {
   "cell_type": "code",
   "execution_count": 84,
   "metadata": {},
   "outputs": [
    {
     "name": "stdout",
     "output_type": "stream",
     "text": [
      "                     Date  E_load_forecast_MWh_x  day_ahead_prices_EURO_x  \\\n",
      "48190 2020-06-30 22:00:00                44015.0                    23.92   \n",
      "48191 2020-06-30 23:00:00                41885.0                    25.04   \n",
      "48192 2020-07-01 00:00:00                40509.0                    25.59   \n",
      "48193 2020-07-01 01:00:00                40207.0                    25.03   \n",
      "48194 2020-07-01 02:00:00                40883.0                    24.78   \n",
      "...                   ...                    ...                      ...   \n",
      "87462 2024-12-23 06:00:00                56771.0                    52.01   \n",
      "87463 2024-12-23 07:00:00                60324.0                    59.34   \n",
      "87464 2024-12-23 08:00:00                62624.0                    59.62   \n",
      "87465 2024-12-23 09:00:00                63753.0                    52.73   \n",
      "87466 2024-12-23 10:00:00                62947.0                    52.00   \n",
      "\n",
      "       E_generation_forecast_MWh_x  E_solar_forecast_MWh_x_x  \\\n",
      "48190                      46389.0                       0.0   \n",
      "48191                      44115.0                       0.0   \n",
      "48192                      42757.0                       0.0   \n",
      "48193                      42348.0                       0.0   \n",
      "48194                      41997.0                       0.0   \n",
      "...                            ...                       ...   \n",
      "87462                      60211.0                       0.0   \n",
      "87463                      63354.0                      41.0   \n",
      "87464                      64692.0                    1562.0   \n",
      "87465                      65771.0                    4500.0   \n",
      "87466                      66680.0                    6482.0   \n",
      "\n",
      "       E_wind_forecast_MWh_x_x  E_wind_forecast_MWh.1_x_x  \\\n",
      "48190                   3256.0                    13804.0   \n",
      "48191                   3169.0                    13790.0   \n",
      "48192                   2820.0                    13788.0   \n",
      "48193                   2551.0                    13665.0   \n",
      "48194                   2494.0                    13305.0   \n",
      "...                        ...                        ...   \n",
      "87462                   3998.0                    26724.0   \n",
      "87463                   3810.0                    28278.0   \n",
      "87464                   4212.0                    29815.0   \n",
      "87465                   4209.0                    30233.0   \n",
      "87466                   4177.0                    30568.0   \n",
      "\n",
      "       E_solar_forecast_MWh_y_x  E_wind_forecast_MWh_y_x  \\\n",
      "48190                       0.0                   3743.0   \n",
      "48191                       0.0                   3539.0   \n",
      "48192                       0.0                   3334.0   \n",
      "48193                       0.0                   3051.0   \n",
      "48194                       0.0                   2662.0   \n",
      "...                         ...                      ...   \n",
      "87462                       0.0                   3140.0   \n",
      "87463                      40.0                   3081.0   \n",
      "87464                    1135.0                   3051.0   \n",
      "87465                    3076.0                   3045.0   \n",
      "87466                    4486.0                   3215.0   \n",
      "\n",
      "       E_wind_forecast_MWh.1_y_x  ...  E_crossborder_SE_4_actual_MWh  \\\n",
      "48190                    15119.0  ...                            0.0   \n",
      "48191                    15321.0  ...                            0.0   \n",
      "48192                    15241.0  ...                            0.0   \n",
      "48193                    14873.0  ...                            0.0   \n",
      "48194                    14245.0  ...                            0.0   \n",
      "...                          ...  ...                            ...   \n",
      "87462                    32369.0  ...                            0.0   \n",
      "87463                    32974.0  ...                            0.0   \n",
      "87464                    33155.0  ...                            0.0   \n",
      "87465                    32821.0  ...                            NaN   \n",
      "87466                    32485.0  ...                            NaN   \n",
      "\n",
      "       E_crossborder_DK_1_actual_MWh  E_crossborder_FR_actual_MWh  \\\n",
      "48190                           27.0                       1390.0   \n",
      "48191                           31.0                       1101.0   \n",
      "48192                           39.0                        801.0   \n",
      "48193                           37.0                        718.0   \n",
      "48194                           25.0                        445.0   \n",
      "...                              ...                          ...   \n",
      "87462                          137.0                          0.0   \n",
      "87463                          307.0                          0.0   \n",
      "87464                          115.0                          0.0   \n",
      "87465                          219.0                          NaN   \n",
      "87466                            NaN                          NaN   \n",
      "\n",
      "       E_crossborder_CH_actual_MWh  E_crossborder_NL_actual_MWh  \\\n",
      "48190                        845.0                        932.0   \n",
      "48191                        897.0                        346.0   \n",
      "48192                       1139.0                        203.0   \n",
      "48193                       1529.0                        144.0   \n",
      "48194                       1329.0                         27.0   \n",
      "...                            ...                          ...   \n",
      "87462                       2018.0                       1012.0   \n",
      "87463                       2533.0                       1202.0   \n",
      "87464                       2331.0                       1266.0   \n",
      "87465                       2919.0                       1119.0   \n",
      "87466                          NaN                          NaN   \n",
      "\n",
      "       E_crossborder_sum_actual_MWh  E_crossborder_BE_actual_MWh  \\\n",
      "48190                        5281.0                          0.0   \n",
      "48191                        4449.0                          0.0   \n",
      "48192                        4511.0                          0.0   \n",
      "48193                        5072.0                          0.0   \n",
      "48194                        4303.0                          0.0   \n",
      "...                             ...                          ...   \n",
      "87462                        9288.0                        844.0   \n",
      "87463                       10207.0                        961.0   \n",
      "87464                       10286.0                        885.0   \n",
      "87465                        8492.0                        857.0   \n",
      "87466                           NaN                          NaN   \n",
      "\n",
      "       E_crossborder_CZ_actual_MWh  E_crossborder_PL_actual_MWh  Covid factor  \n",
      "48190                        202.0                       1003.0      9.167322  \n",
      "48191                        210.0                        825.0      9.167322  \n",
      "48192                        407.0                        843.0      9.167322  \n",
      "48193                        412.0                       1142.0      9.167322  \n",
      "48194                        307.0                       1007.0      9.167322  \n",
      "...                            ...                          ...           ...  \n",
      "87462                       1421.0                       1952.0      0.000000  \n",
      "87463                       1703.0                       1686.0      0.000000  \n",
      "87464                       1803.0                       1922.0      0.000000  \n",
      "87465                       1647.0                          NaN      0.000000  \n",
      "87466                          NaN                          NaN      0.000000  \n",
      "\n",
      "[39277 rows x 67 columns]\n"
     ]
    }
   ],
   "source": [
    "df_all_data['Date'] = pd.to_datetime(df_all_data['Date'], format='%Y-%m-%d %H:%M:%S')\n",
    "earliest_datetime = pd.Timestamp(\"2020-06-30 22:00:00\")\n",
    "df_all_data_filtered = df_all_data[\n",
    "    (df_all_data['Date'] >= earliest_datetime) & (df_all_data['Date'] <= cutoff_datetime)\n",
    "]\n",
    "print(df_all_data_filtered)"
   ]
  },
  {
   "cell_type": "markdown",
   "metadata": {},
   "source": [
    "Now we do a cross correlation analysis"
   ]
  },
  {
   "cell_type": "code",
   "execution_count": 85,
   "metadata": {},
   "outputs": [
    {
     "name": "stdout",
     "output_type": "stream",
     "text": [
      "0.7184630651379397\n"
     ]
    }
   ],
   "source": [
    "series1 = df_all_data_filtered['day_ahead_prices_EURO_x'].fillna(0)\n",
    "series2 = df_intra_day_filtered['ID AEP in €/MWh'].fillna(0)\n",
    "\n",
    "cross_corr_value = np.corrcoef(series1, series2)[0, 1]\n",
    "print(cross_corr_value)"
   ]
  }
 ],
 "metadata": {
  "kernelspec": {
   "display_name": "Python 3",
   "language": "python",
   "name": "python3"
  },
  "language_info": {
   "codemirror_mode": {
    "name": "ipython",
    "version": 3
   },
   "file_extension": ".py",
   "mimetype": "text/x-python",
   "name": "python",
   "nbconvert_exporter": "python",
   "pygments_lexer": "ipython3",
   "version": "3.12.8"
  }
 },
 "nbformat": 4,
 "nbformat_minor": 2
}
