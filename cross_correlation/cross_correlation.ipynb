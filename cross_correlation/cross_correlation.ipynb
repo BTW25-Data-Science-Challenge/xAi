{
 "cells": [
  {
   "cell_type": "code",
   "execution_count": null,
   "metadata": {},
   "outputs": [],
   "source": [
    "import os\n",
    "x_ai_path = (os.path.abspath(os.path.join(\"\", os.pardir)))\n",
    "intra_day_csv = os.path.join(x_ai_path, \"Data\", \"Data\", \"Smard\",\"IntraDay\" \"IntraDayPreisindexIdAEPvonNetztransparenzDE.csv\")\n",
    "allData_csv = os.path.join(x_ai_path, \"submission\", \"merged_data\", \"allData.csv\")\n",
    "\n",
    "import pandas as pd\n",
    "df_all_data = pd.read_csv(allData_csv)\n",
    "df_intra_day = pd.read_csv(intra_day_csv)\n",
    "\n"
   ]
  }
 ],
 "metadata": {
  "kernelspec": {
   "display_name": "Python 3",
   "language": "python",
   "name": "python3"
  },
  "language_info": {
   "name": "python",
   "version": "3.12.8"
  }
 },
 "nbformat": 4,
 "nbformat_minor": 2
}
