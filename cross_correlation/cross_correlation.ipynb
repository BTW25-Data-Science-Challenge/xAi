{
 "cells": [
  {
   "cell_type": "code",
   "execution_count": 82,
   "metadata": {},
   "outputs": [],
   "source": [
    "import os\n",
    "import numpy as np\n",
    "import matplotlib.pyplot as plt\n",
    "x_ai_path = (os.path.abspath(os.path.join(\"\", os.pardir)))\n",
    "intra_day_csv = os.path.join(x_ai_path, \"Data\",\"Data\",\"Smard\",\"IntraDay\",\"IntraDayPreisindexIdAEPvonNetztransparenzDE.csv\")\n",
    "allData_csv = os.path.join(x_ai_path, \"submission\", \"merged_data\", \"allData.csv\")\n",
    "\n",
    "import pandas as pd\n",
    "df_all_data = pd.read_csv(allData_csv)\n",
    "df_intra_day = pd.read_csv(intra_day_csv, delimiter=';', decimal=',')"
   ]
  },
  {
   "cell_type": "markdown",
   "metadata": {},
   "source": [
    "Leider enthält die CSV der Intraday Daten wesentlich genauere Werte als unsere andere CSV, die nur ganze Stunden enthält. Außerdem enthält sie aktuell Werte über einen längeren Zeitraum, die beschnitten werden müssen. "
   ]
  },
  {
   "cell_type": "code",
   "execution_count": null,
   "metadata": {},
   "outputs": [],
   "source": [
    "df_intra_day['(Uhrzeit) von'] = pd.to_datetime(df_intra_day['Datum von'] + ' ' + df_intra_day['(Uhrzeit) von'], format='%Y-%m-%d %H:%M')\n",
    "df_intra_day_filtered = df_intra_day[df_intra_day['(Uhrzeit) von'].dt.minute == 0]\n",
    "earliest_datetime = pd.Timestamp(\"2020-06-30 22:00:00\")\n",
    "cutoff_datetime = pd.Timestamp(\"2024-12-23 10:00:00\")\n",
    "df_intra_day_filtered = df_intra_day_filtered[df_intra_day_filtered['(Uhrzeit) von'] <= cutoff_datetime]\n",
    "print(df_intra_day_filtered)"
   ]
  },
  {
   "cell_type": "markdown",
   "metadata": {},
   "source": [
    "Nun muss auch noch die große CSV gefiltert werden, um sich auf den gleichen Zeitraum zu beschränken"
   ]
  },
  {
   "cell_type": "code",
   "execution_count": null,
   "metadata": {},
   "outputs": [],
   "source": [
    "df_all_data['Date'] = pd.to_datetime(df_all_data['Date'], format='%Y-%m-%d %H:%M:%S')\n",
    "earliest_datetime = pd.Timestamp(\"2020-06-30 22:00:00\")\n",
    "df_all_data_filtered = df_all_data[\n",
    "    (df_all_data['Date'] >= earliest_datetime) & (df_all_data['Date'] <= cutoff_datetime)\n",
    "]\n",
    "print(df_all_data_filtered)"
   ]
  },
  {
   "cell_type": "markdown",
   "metadata": {},
   "source": [
    "Now we do a cross correlation analysis"
   ]
  },
  {
   "cell_type": "code",
   "execution_count": null,
   "metadata": {},
   "outputs": [],
   "source": [
    "series1 = df_all_data_filtered['day_ahead_prices_EURO_x'].fillna(0)\n",
    "series2 = df_intra_day_filtered['ID AEP in €/MWh'].fillna(0)\n",
    "\n",
    "cross_corr_value = np.corrcoef(series1, series2)[0, 1]\n",
    "print(cross_corr_value)"
   ]
  }
 ],
 "metadata": {
  "kernelspec": {
   "display_name": "Python 3",
   "language": "python",
   "name": "python3"
  },
  "language_info": {
   "codemirror_mode": {
    "name": "ipython",
    "version": 3
   },
   "file_extension": ".py",
   "mimetype": "text/x-python",
   "name": "python",
   "nbconvert_exporter": "python",
   "pygments_lexer": "ipython3",
   "version": "3.12.8"
  }
 },
 "nbformat": 4,
 "nbformat_minor": 2
}
